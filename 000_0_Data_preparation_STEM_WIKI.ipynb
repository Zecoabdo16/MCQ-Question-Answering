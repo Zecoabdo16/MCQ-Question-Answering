{
  "nbformat": 4,
  "nbformat_minor": 0,
  "metadata": {
    "colab": {
      "provenance": [],
      "gpuType": "T4"
    },
    "kernelspec": {
      "name": "python3",
      "display_name": "Python 3"
    },
    "language_info": {
      "name": "python"
    },
    "accelerator": "GPU"
  },
  "cells": [
    {
      "cell_type": "markdown",
      "source": [
        "**Data Loading & Preparation**"
      ],
      "metadata": {
        "id": "4f2TlOuQMEt0"
      }
    },
    {
      "cell_type": "code",
      "source": [
        "from google.colab import drive\n",
        "drive.mount('/content/drive')"
      ],
      "metadata": {
        "colab": {
          "base_uri": "https://localhost:8080/"
        },
        "id": "9QSNlCCN_CGT",
        "outputId": "71d69197-8cef-41cf-81be-9ae88b03d3d6"
      },
      "execution_count": null,
      "outputs": [
        {
          "output_type": "stream",
          "name": "stdout",
          "text": [
            "Mounted at /content/drive\n"
          ]
        }
      ]
    },
    {
      "cell_type": "code",
      "source": [
        "import os\n",
        "os.environ[\"KAGGLE_CONFIG_DIR\"] = \"/content/drive/MyDrive/kaggle data\""
      ],
      "metadata": {
        "id": "y4pdggQO_Cd1"
      },
      "execution_count": null,
      "outputs": []
    },
    {
      "cell_type": "code",
      "source": [
        "%cd /content/drive/MyDrive/kaggle data"
      ],
      "metadata": {
        "colab": {
          "base_uri": "https://localhost:8080/"
        },
        "id": "E4N7aq2aABbv",
        "outputId": "a789b69d-819e-4939-ee71-658510f9309f"
      },
      "execution_count": null,
      "outputs": [
        {
          "output_type": "stream",
          "name": "stdout",
          "text": [
            "/content/drive/MyDrive/kaggle data\n"
          ]
        }
      ]
    },
    {
      "cell_type": "code",
      "source": [
        "!ls"
      ],
      "metadata": {
        "colab": {
          "base_uri": "https://localhost:8080/"
        },
        "id": "9ytQ-S8yAFPk",
        "outputId": "ffe907b6-2155-465d-f713-143ea2423748"
      },
      "execution_count": null,
      "outputs": [
        {
          "output_type": "stream",
          "name": "stdout",
          "text": [
            "df1.csv  df2.csv  kaggle.json  wikidata\n"
          ]
        }
      ]
    },
    {
      "cell_type": "code",
      "source": [
        "! kaggle datasets download -d nbroad/wiki-20220301-en-sci"
      ],
      "metadata": {
        "colab": {
          "base_uri": "https://localhost:8080/"
        },
        "id": "BqlVFrO4AKl2",
        "outputId": "0f2118ea-9da6-44f2-a5e7-eee79c3d7c43"
      },
      "execution_count": null,
      "outputs": [
        {
          "output_type": "stream",
          "name": "stdout",
          "text": [
            "Downloading wiki-20220301-en-sci.zip to /content/drive/MyDrive/kaggle data\n",
            " 95% 273M/286M [00:05<00:00, 55.3MB/s]\n",
            "100% 286M/286M [00:05<00:00, 56.3MB/s]\n"
          ]
        }
      ]
    },
    {
      "cell_type": "code",
      "source": [
        "!mkdir wikidata"
      ],
      "metadata": {
        "colab": {
          "base_uri": "https://localhost:8080/"
        },
        "id": "aatN0U60ASko",
        "outputId": "4aea2cf7-e035-4538-eb1c-82a74e5e9ba5"
      },
      "execution_count": null,
      "outputs": [
        {
          "output_type": "stream",
          "name": "stdout",
          "text": [
            "mkdir: cannot create directory ‘wikidata’: File exists\n"
          ]
        }
      ]
    },
    {
      "cell_type": "code",
      "source": [
        "!mv wiki-20220301-en-sci.zip wikidata"
      ],
      "metadata": {
        "id": "0frWEL5YAlEX"
      },
      "execution_count": null,
      "outputs": []
    },
    {
      "cell_type": "code",
      "source": [
        "%cd wikidata/"
      ],
      "metadata": {
        "colab": {
          "base_uri": "https://localhost:8080/"
        },
        "id": "WQh2utYoAy8A",
        "outputId": "eaa63c15-431e-4327-ec36-8b0925fad351"
      },
      "execution_count": null,
      "outputs": [
        {
          "output_type": "stream",
          "name": "stdout",
          "text": [
            "/content/drive/MyDrive/kaggle data/wikidata\n"
          ]
        }
      ]
    },
    {
      "cell_type": "code",
      "source": [
        "!unzip wiki-20220301-en-sci.zip"
      ],
      "metadata": {
        "colab": {
          "base_uri": "https://localhost:8080/"
        },
        "id": "L3veg8OSA6K0",
        "outputId": "87935357-ed7d-4243-f609-cb7f614ba8c1"
      },
      "execution_count": null,
      "outputs": [
        {
          "output_type": "stream",
          "name": "stdout",
          "text": [
            "Archive:  wiki-20220301-en-sci.zip\n",
            "  inflating: 0_to_25000.parquet      \n",
            "  inflating: 100000_to_125000.parquet  \n",
            "  inflating: 125000_to_131049.parquet  \n",
            "  inflating: 25000_to_50000.parquet  \n",
            "  inflating: 50000_to_75000.parquet  \n",
            "  inflating: 75000_to_100000.parquet  \n"
          ]
        }
      ]
    },
    {
      "cell_type": "code",
      "source": [
        "import numpy as np\n",
        "import pandas as pd\n",
        "import pyarrow as pa\n",
        "import pyarrow.parquet as pq"
      ],
      "metadata": {
        "id": "wyl6vDR7BA3M"
      },
      "execution_count": null,
      "outputs": []
    },
    {
      "cell_type": "code",
      "source": [
        "p1 = pq.read_table(\"/content/drive/MyDrive/kaggle data/wikidata/0_to_25000.parquet\")"
      ],
      "metadata": {
        "id": "f-lNiAxgCBLC"
      },
      "execution_count": null,
      "outputs": []
    },
    {
      "cell_type": "code",
      "source": [
        "p2 = pq.read_table(\"/content/drive/MyDrive/kaggle data/wikidata/100000_to_125000.parquet\")"
      ],
      "metadata": {
        "id": "mHzIWAC9CQmq"
      },
      "execution_count": null,
      "outputs": []
    },
    {
      "cell_type": "code",
      "source": [
        "p3 = pq.read_table(\"/content/drive/MyDrive/kaggle data/wikidata/125000_to_131049.parquet\")"
      ],
      "metadata": {
        "id": "LrboxBPOCRCu"
      },
      "execution_count": null,
      "outputs": []
    },
    {
      "cell_type": "code",
      "source": [
        "p4 = pq.read_table(\"/content/drive/MyDrive/kaggle data/wikidata/25000_to_50000.parquet\")"
      ],
      "metadata": {
        "id": "4FlcCIGFCRV7"
      },
      "execution_count": null,
      "outputs": []
    },
    {
      "cell_type": "code",
      "source": [
        "p5 = pq.read_table(\"/content/drive/MyDrive/kaggle data/wikidata/50000_to_75000.parquet\")"
      ],
      "metadata": {
        "id": "E0dxRyZkCSdN"
      },
      "execution_count": null,
      "outputs": []
    },
    {
      "cell_type": "code",
      "source": [
        "p6 = pq.read_table(\"/content/drive/MyDrive/kaggle data/wikidata/75000_to_100000.parquet\")"
      ],
      "metadata": {
        "id": "-umTmv1fCSwY"
      },
      "execution_count": null,
      "outputs": []
    },
    {
      "cell_type": "code",
      "source": [
        "df1 = p1.to_pandas()"
      ],
      "metadata": {
        "id": "v2pIv3TZCitN"
      },
      "execution_count": null,
      "outputs": []
    },
    {
      "cell_type": "code",
      "source": [
        "df2 = p2.to_pandas()"
      ],
      "metadata": {
        "id": "klpOL5RYCsT_"
      },
      "execution_count": null,
      "outputs": []
    },
    {
      "cell_type": "code",
      "source": [
        "df3 = p3.to_pandas()"
      ],
      "metadata": {
        "id": "HEemkcA0CtLz"
      },
      "execution_count": null,
      "outputs": []
    },
    {
      "cell_type": "code",
      "source": [
        "df4 = p4.to_pandas()"
      ],
      "metadata": {
        "id": "dCo1elA5CtiJ"
      },
      "execution_count": null,
      "outputs": []
    },
    {
      "cell_type": "code",
      "source": [
        "df5 = p5.to_pandas()"
      ],
      "metadata": {
        "id": "LBO-0dnZCtzl"
      },
      "execution_count": null,
      "outputs": []
    },
    {
      "cell_type": "code",
      "source": [
        "df6 = p6.to_pandas()"
      ],
      "metadata": {
        "id": "bJMyZTZPCt88"
      },
      "execution_count": null,
      "outputs": []
    },
    {
      "cell_type": "code",
      "source": [
        "df1[\"text\"][1000]"
      ],
      "metadata": {
        "colab": {
          "base_uri": "https://localhost:8080/",
          "height": 244
        },
        "id": "vgoZhMNOC3o_",
        "outputId": "f09f1479-dc31-4261-c36b-690835e3c87a"
      },
      "execution_count": null,
      "outputs": [
        {
          "output_type": "execute_result",
          "data": {
            "text/plain": [
              "'The depressor anguli oris muscle (triangularis muscle) is a facial muscle. It originates from the mandible and inserts into the angle of the mouth. It is associated with frowning, as it depresses the corner of the mouth.\\n\\nStructure \\nThe depressor anguli oris arises from the lateral surface of the mandible. Its fibres then converge. It is inserted by a narrow fasciculus into the angle of the mouth. At its origin, it is continuous with the platysma muscle, and at its insertion with the orbicularis oris muscle and risorius muscle. Some of its fibers are directly continuous with those of the levator anguli oris muscle, and others are occasionally found crossing from the muscle of one side to that of the other; these latter fibers constitute the transverse muscle of the chin.\\n\\nThe depressor anguli oris muscle receives its blood supply from a branch of the facial artery.\\n\\nNerve supply \\nThe depressor anguli oris muscle is supplied by the marginal mandibular branch of the facial nerve.\\n\\nFunction \\nThe depressor anguli oris muscle is a muscle of facial expression. It depresses the corner of the mouth, which is associated with frowning.\\n\\nClinical significance\\n\\nParalysis \\nDamage to the marginal mandibular branch of the facial nerve may cause paralysis of the depressor anguli oris muscle. This may contribute to an asymmetrical smile. This may be corrected by resecting (cutting and removing) the depressor labii inferioris muscle, which has a more significant impact on smiling.\\n\\nSee also \\n Facial muscles\\n Transverse muscle of the chin\\n\\nAdditional images\\n\\nReferences\\n\\nExternal links \\n\\n PTCentral\\n\\nMuscles of the head and neck\\nFacial muscles'"
            ],
            "application/vnd.google.colaboratory.intrinsic+json": {
              "type": "string"
            }
          },
          "metadata": {},
          "execution_count": 34
        }
      ]
    },
    {
      "cell_type": "code",
      "source": [
        "def get_len(text):\n",
        "  return len(text.split())"
      ],
      "metadata": {
        "id": "Aynm60YIC42m"
      },
      "execution_count": null,
      "outputs": []
    },
    {
      "cell_type": "code",
      "source": [
        "df1['mylen2'] = df1.processed.apply(get_len)"
      ],
      "metadata": {
        "id": "0kUytBRCF3hF"
      },
      "execution_count": null,
      "outputs": []
    },
    {
      "cell_type": "code",
      "source": [
        "df1.mylen2.sort_values(ascending=False).head(25)"
      ],
      "metadata": {
        "colab": {
          "base_uri": "https://localhost:8080/"
        },
        "id": "_7c8cOBzTkRB",
        "outputId": "6bbdb352-5257-4d2a-adce-1384270450e5"
      },
      "execution_count": null,
      "outputs": [
        {
          "output_type": "execute_result",
          "data": {
            "text/plain": [
              "14184    14088\n",
              "3131     12208\n",
              "18915     9913\n",
              "22679     9638\n",
              "11504     8948\n",
              "451       8346\n",
              "19318     8330\n",
              "21109     8116\n",
              "15235     8045\n",
              "21152     7933\n",
              "23150     7602\n",
              "7451      7260\n",
              "15298     7212\n",
              "15715     7212\n",
              "19316     7139\n",
              "18589     7051\n",
              "15299     7014\n",
              "23966     6954\n",
              "11534     6952\n",
              "18917     6808\n",
              "19204     6748\n",
              "5209      6580\n",
              "22731     6544\n",
              "23130     6536\n",
              "5300      6467\n",
              "Name: processed, dtype: int64"
            ]
          },
          "metadata": {},
          "execution_count": 45
        }
      ]
    },
    {
      "cell_type": "code",
      "source": [
        "df1.mylen.sort_values(ascending=False).head(25)"
      ],
      "metadata": {
        "colab": {
          "base_uri": "https://localhost:8080/"
        },
        "id": "ickqZy3hGwg5",
        "outputId": "036adc2a-3596-4ec1-e384-a875fc4868e5"
      },
      "execution_count": null,
      "outputs": [
        {
          "output_type": "execute_result",
          "data": {
            "text/plain": [
              "19318    21488\n",
              "18915    18830\n",
              "7451     18410\n",
              "19316    18053\n",
              "14184    17902\n",
              "19204    16952\n",
              "11534    16231\n",
              "22679    15820\n",
              "7351     15787\n",
              "19317    15765\n",
              "20981    15481\n",
              "21085    15314\n",
              "21084    15280\n",
              "10661    14807\n",
              "451      13103\n",
              "21152    13001\n",
              "11504    12930\n",
              "21086    12801\n",
              "15235    12668\n",
              "19319    12531\n",
              "3131     12293\n",
              "21109    12209\n",
              "21087    11964\n",
              "15298    11745\n",
              "23150    11638\n",
              "Name: text, dtype: int64"
            ]
          },
          "metadata": {},
          "execution_count": 24
        }
      ]
    },
    {
      "cell_type": "code",
      "source": [
        "df1.text.iloc[11638]"
      ],
      "metadata": {
        "colab": {
          "base_uri": "https://localhost:8080/",
          "height": 1000
        },
        "id": "lFswJCFjG2t5",
        "outputId": "52233fb2-93d1-4016-b8e0-b597b3f190c7"
      },
      "execution_count": null,
      "outputs": [
        {
          "output_type": "execute_result",
          "data": {
            "text/plain": [
              "'Naturally occurring palladium (46Pd) is composed of six stable isotopes, 102Pd, 104Pd, 105Pd, 106Pd, 108Pd, and 110Pd, although 102Pd and 110Pd are theoretically unstable. The most stable radioisotopes are 107Pd with a half-life of 6.5 million years, 103Pd with a half-life of 17 days, and 100Pd with a half-life of 3.63 days. Twenty-three other radioisotopes have been characterized with atomic weights ranging from 90.949 u (91Pd) to 128.96 u (129Pd). Most of these have half-lives that are less than a half an hour except 101Pd (half-life: 8.47 hours), 109Pd (half-life: 13.7 hours), and 112Pd (half-life: 21 hours).\\n\\nThe primary decay mode before the most abundant stable isotope, 106Pd, is electron capture and the primary mode after is beta decay. The primary decay product before 106Pd is rhodium and the primary product after is silver.\\n\\nRadiogenic 107Ag is a decay product of 107Pd and was first discovered in the Santa Clara meteorite of 1978. The discoverers suggest that the coalescence and differentiation of iron-cored small planets may have occurred 10 million years after a nucleosynthetic event. 107Pd versus Ag correlations observed in bodies, which have clearly been melted since accretion of the Solar System, must reflect the presence of short-lived nuclides in the early Solar System.\\n\\nList of isotopes \\n\\n|-\\n| 91Pd\\n| style=\"text-align:right\" | 46\\n| style=\"text-align:right\" | 45\\n| 90.94911(61)#\\n| 10#\\xa0ms [>1.5\\xa0µs]\\n| β+\\n| 91Rh\\n| 7/2+#\\n|\\n|\\n|-\\n| 92Pd\\n| style=\"text-align:right\" | 46\\n| style=\"text-align:right\" | 46\\n| 91.94042(54)#\\n| 1.1(3)\\xa0s [0.7(+4−2)\\xa0s]\\n| β+\\n| 92Rh\\n| 0+\\n|\\n|\\n|-\\n| 93Pd\\n| style=\"text-align:right\" | 46\\n| style=\"text-align:right\" | 47\\n| 92.93591(43)#\\n| 1.07(12)\\xa0s\\n| β+\\n| 93Rh\\n| (9/2+)\\n|\\n|\\n|-\\n| style=\"text-indent:1em\" | 93mPd\\n| colspan=\"3\" style=\"text-indent:2em\" | 0+X\\xa0keV\\n| 9.3(+25−17)\\xa0s\\n|\\n|\\n|\\n|\\n|\\n|-\\n| 94Pd\\n| style=\"text-align:right\" | 46\\n| style=\"text-align:right\" | 48\\n| 93.92877(43)#\\n| 9.0(5)\\xa0s\\n| β+\\n| 94Rh\\n| 0+\\n|\\n|\\n|-\\n| style=\"text-indent:1em\" | 94mPd\\n| colspan=\"3\" style=\"text-indent:2em\" | 4884.4(5)\\xa0keV\\n| 530(10)\\xa0ns\\n|\\n|\\n| (14+)\\n|\\n|\\n|-\\n| 95Pd\\n| style=\"text-align:right\" | 46\\n| style=\"text-align:right\" | 49\\n| 94.92469(43)#\\n| 10# s\\n| β+\\n| 95Rh\\n| 9/2+#\\n|\\n|\\n|-\\n| rowspan=3 style=\"text-indent:1em\" | 95mPd\\n| rowspan=3 colspan=\"3\" style=\"text-indent:2em\" | 1860(500)#\\xa0keV\\n| rowspan=3|13.3(3)\\xa0s\\n| β+ (94.1%)\\n| 95Rh\\n| rowspan=3|(21/2+)\\n| rowspan=3|\\n| rowspan=3|\\n|-\\n| IT (5%)\\n| 95Pd\\n|-\\n| β+, p (.9%)\\n| 94Ru\\n|-\\n| 96Pd\\n| style=\"text-align:right\" | 46\\n| style=\"text-align:right\" | 50\\n| 95.91816(16)\\n| 122(2)\\xa0s\\n| β+\\n| 96Rh\\n| 0+\\n|\\n|\\n|-\\n| style=\"text-indent:1em\" | 96mPd\\n| colspan=\"3\" style=\"text-indent:2em\" | 2530.8(1)\\xa0keV\\n| 1.81(1)\\xa0µs\\n|\\n|\\n| 8+\\n|\\n|\\n|-\\n| 97Pd\\n| style=\"text-align:right\" | 46\\n| style=\"text-align:right\" | 51\\n| 96.91648(32)\\n| 3.10(9)\\xa0min\\n| β+\\n| 97Rh\\n| 5/2+#\\n|\\n|\\n|-\\n| 98Pd\\n| style=\"text-align:right\" | 46\\n| style=\"text-align:right\" | 52\\n| 97.912721(23)\\n| 17.7(3)\\xa0min\\n| β+\\n| 98Rh\\n| 0+\\n|\\n|\\n|-\\n| 99Pd\\n| style=\"text-align:right\" | 46\\n| style=\"text-align:right\" | 53\\n| 98.911768(16)\\n| 21.4(2)\\xa0min\\n| β+\\n| 99Rh\\n| (5/2)+\\n|\\n|\\n|-\\n| 100Pd\\n| style=\"text-align:right\" | 46\\n| style=\"text-align:right\" | 54\\n| 99.908506(12)\\n| 3.63(9)\\xa0d\\n| EC\\n| 100Rh\\n| 0+\\n|\\n|\\n|-\\n| 101Pd\\n| style=\"text-align:right\" | 46\\n| style=\"text-align:right\" | 55\\n| 100.908289(19)\\n| 8.47(6)\\xa0h\\n| β+\\n| 101Rh\\n| 5/2+\\n|\\n|\\n|-\\n| 102Pd\\n| style=\"text-align:right\" | 46\\n| style=\"text-align:right\" | 56\\n| 101.905609(3)\\n| colspan=3 align=center|Observationally Stable\\n| 0+\\n| 0.0102(1)\\n|\\n|-\\n| 103Pd\\n| style=\"text-align:right\" | 46\\n| style=\"text-align:right\" | 57\\n| 102.906087(3)\\n| 16.991(19)\\xa0d\\n| EC\\n| 103Rh\\n| 5/2+\\n|\\n|\\n|-\\n| style=\"text-indent:1em\" | 103mPd\\n| colspan=\"3\" style=\"text-indent:2em\" | 784.79(10)\\xa0keV\\n| 25(2)\\xa0ns\\n|\\n|\\n| 11/2−\\n|\\n|\\n|-\\n| 104Pd\\n| style=\"text-align:right\" | 46\\n| style=\"text-align:right\" | 58\\n| 103.904036(4)\\n| colspan=3 align=center|Stable\\n| 0+\\n| 0.1114(8)\\n|\\n|-\\n| 105Pd\\n| style=\"text-align:right\" | 46\\n| style=\"text-align:right\" | 59\\n| 104.905085(4)\\n| colspan=3 align=center|Stable\\n| 5/2+\\n| 0.2233(8)\\n|\\n|-\\n| 106Pd\\n| style=\"text-align:right\" | 46\\n| style=\"text-align:right\" | 60\\n| 105.903486(4)\\n| colspan=3 align=center|Stable\\n| 0+\\n| 0.2733(3)\\n|\\n|-\\n| 107Pd\\n| style=\"text-align:right\" | 46\\n| style=\"text-align:right\" | 61\\n| 106.905133(4)\\n| 6.5(3)×106 y\\n| β−\\n| 107Ag\\n| 5/2+\\n| trace\\n|\\n|-\\n| style=\"text-indent:1em\" | 107m1Pd\\n| colspan=\"3\" style=\"text-indent:2em\" | 115.74(12)\\xa0keV\\n| 0.85(10)\\xa0µs\\n|\\n|\\n| 1/2+\\n|\\n|\\n|-\\n| style=\"text-indent:1em\" | 107m2Pd\\n| colspan=\"3\" style=\"text-indent:2em\" | 214.6(3)\\xa0keV\\n| 21.3(5)\\xa0s\\n| IT\\n| 107Pd\\n| 11/2−\\n|\\n|\\n|-\\n| 108Pd\\n| style=\"text-align:right\" | 46\\n| style=\"text-align:right\" | 62\\n| 107.903892(4)\\n| colspan=3 align=center|Stable\\n| 0+\\n| 0.2646(9)\\n|\\n|-\\n| 109Pd\\n| style=\"text-align:right\" | 46\\n| style=\"text-align:right\" | 63\\n| 108.905950(4)\\n| 13.7012(24)\\xa0h\\n| β−\\n| 109mAg\\n| 5/2+\\n|\\n|\\n|-\\n| style=\"text-indent:1em\" | 109m1Pd\\n| colspan=\"3\" style=\"text-indent:2em\" | 113.400(10)\\xa0keV\\n| 380(50)\\xa0ns\\n|\\n|\\n| 1/2+\\n|\\n|\\n|-\\n| style=\"text-indent:1em\" | 109m2Pd\\n| colspan=\"3\" style=\"text-indent:2em\" | 188.990(10)\\xa0keV\\n| 4.696(3)\\xa0min\\n| IT\\n| 109Pd\\n| 11/2−\\n|\\n|\\n|-\\n| 110Pd\\n| style=\"text-align:right\" | 46\\n| style=\"text-align:right\" | 64\\n| 109.905153(12)\\n| colspan=3 align=center|Observationally Stable\\n| 0+\\n| 0.1172(9)\\n|\\n|-\\n| 111Pd\\n| style=\"text-align:right\" | 46\\n| style=\"text-align:right\" | 65\\n| 110.907671(12)\\n| 23.4(2)\\xa0min\\n| β−\\n| 111mAg\\n| 5/2+\\n|\\n|\\n|-\\n| rowspan=2 style=\"text-indent:1em\" | 111mPd\\n| rowspan=2 colspan=\"3\" style=\"text-indent:2em\" | 172.18(8)\\xa0keV\\n| rowspan=2|5.5(1)\\xa0h\\n| IT\\n| 111Pd\\n| rowspan=2|11/2−\\n| rowspan=2|\\n| rowspan=2|\\n|-\\n| β−\\n| 111mAg\\n|- \\n| 112Pd\\n| style=\"text-align:right\" | 46\\n| style=\"text-align:right\" | 66\\n| 111.907314(19)\\n| 21.03(5)\\xa0h\\n| β−\\n| 112Ag\\n| 0+\\n|\\n|\\n|-\\n| 113Pd\\n| style=\"text-align:right\" | 46\\n| style=\"text-align:right\" | 67\\n| 112.91015(4)\\n| 93(5)\\xa0s\\n| β−\\n| 113mAg\\n| (5/2+)\\n|\\n|\\n|-\\n| style=\"text-indent:1em\" | 113mPd\\n| colspan=\"3\" style=\"text-indent:2em\" | 81.1(3)\\xa0keV\\n| 0.3(1)\\xa0s\\n| IT\\n| 113Pd\\n| (9/2−)\\n|\\n|\\n|-\\n| 114Pd\\n| style=\"text-align:right\" | 46\\n| style=\"text-align:right\" | 68\\n| 113.910363(25)\\n| 2.42(6)\\xa0min\\n| β−\\n| 114Ag\\n| 0+\\n|\\n|\\n|-\\n| 115Pd\\n| style=\"text-align:right\" | 46\\n| style=\"text-align:right\" | 69\\n| 114.91368(7)\\n| 25(2)\\xa0s\\n| β−\\n| 115mAg\\n| (5/2+)#\\n|\\n|\\n|-\\n| rowspan=2 style=\"text-indent:1em\" | 115mPd\\n| rowspan=2 colspan=\"3\" style=\"text-indent:2em\" | 89.18(25)\\xa0keV\\n| rowspan=2|50(3)\\xa0s\\n| β− (92%)\\n| 115Ag\\n| rowspan=2|(11/2−)#\\n| rowspan=2|\\n| rowspan=2|\\n|-\\n| IT (8%)\\n| 115Pd\\n|-\\n| 116Pd\\n| style=\"text-align:right\" | 46\\n| style=\"text-align:right\" | 70\\n| 115.91416(6)\\n| 11.8(4)\\xa0s\\n| β−\\n| 116Ag\\n| 0+\\n|\\n|\\n|-\\n| 117Pd\\n| style=\"text-align:right\" | 46\\n| style=\"text-align:right\" | 71\\n| 116.91784(6)\\n| 4.3(3)\\xa0s\\n| β−\\n| 117mAg\\n| (5/2+)\\n|\\n|\\n|-\\n| style=\"text-indent:1em\" | 117mPd\\n| colspan=\"3\" style=\"text-indent:2em\" | 203.2(3)\\xa0keV\\n| 19.1(7)\\xa0ms\\n| IT\\n| 117Pd\\n| (11/2−)#\\n|\\n|\\n|-\\n| 118Pd\\n| style=\"text-align:right\" | 46\\n| style=\"text-align:right\" | 72\\n| 117.91898(23)\\n| 1.9(1)\\xa0s\\n| β−\\n| 118Ag\\n| 0+\\n|\\n|\\n|-\\n| 119Pd\\n| style=\"text-align:right\" | 46\\n| style=\"text-align:right\" | 73\\n| 118.92311(32)#\\n| 0.92(13)\\xa0s\\n| β−\\n| 119Ag\\n|\\n|\\n|\\n|-\\n| 120Pd\\n| style=\"text-align:right\" | 46\\n| style=\"text-align:right\" | 74\\n| 119.92469(13)\\n| 0.5(1)\\xa0s\\n| β−\\n| 120Ag\\n| 0+\\n|\\n|\\n|-\\n| 121Pd\\n| style=\"text-align:right\" | 46\\n| style=\"text-align:right\" | 75\\n| 120.92887(54)#\\n| 285\\xa0ms\\n| β−\\n| 121Ag\\n|\\n|\\n|\\n|-\\n| 122Pd\\n| style=\"text-align:right\" | 46\\n| style=\"text-align:right\" | 76\\n| 121.93055(43)#\\n| 175\\xa0ms [>300\\xa0ns]\\n| β−\\n| 122Ag\\n| 0+\\n|\\n|\\n|-\\n| 123Pd\\n| style=\"text-align:right\" | 46\\n| style=\"text-align:right\" | 77\\n| 122.93493(64)#\\n| 108\\xa0ms\\n| β−\\n| 123Ag\\n|\\n|\\n|\\n|-\\n| 124Pd\\n| style=\"text-align:right\" | 46\\n| style=\"text-align:right\" | 78\\n| 123.93688(54)#\\n| 38\\xa0ms\\n| β−\\n| 124Ag\\n| 0+\\n|\\n|\\n|-\\n| 125Pd\\n| style=\"text-align:right\" | 46\\n| style=\"text-align:right\" | 79\\n|\\n| 57\\xa0ms\\n| β−\\n| 125Ag\\n|\\n|\\n|\\n|-\\n| 126Pd\\n| style=\"text-align:right\" | 46\\n| style=\"text-align:right\" | 80\\n|\\n| 48.6\\xa0ms\\n| β−\\n| 126Ag\\n| 0+\\n|\\n|\\n|-\\n| style=\"text-indent:1em\" | 126m1Pd\\n| colspan=\"3\" style=\"text-indent:2em\" | 2023\\xa0keV\\n| 330\\xa0ns\\n| IT\\n| 126Pd\\n| 5−\\n|\\n|\\n|-\\n| style=\"text-indent:1em\" | 126m2Pd\\n| colspan=\"3\" style=\"text-indent:2em\" | 2110\\xa0keV\\n| 440\\xa0ns\\n| IT\\n| 126m1Pd\\n| 7−\\n|\\n|\\n|-\\n| 127Pd\\n| style=\"text-align:right\" | 46\\n| style=\"text-align:right\" | 81\\n|\\n| 38\\xa0ms\\n| β−\\n| 127Ag\\n|\\n|\\n|\\n|-\\n| 128Pd\\n| style=\"text-align:right\" | 46\\n| style=\"text-align:right\" | 82\\n|\\n| 35\\xa0ms\\n| β−\\n| 128Ag\\n| 0+\\n|\\n|\\n|-\\n| style=\"text-indent:1em\" | 128mPd\\n| colspan=\"3\" style=\"text-indent:2em\" | 2151\\xa0keV\\n| 5.8\\xa0µs\\n| IT\\n| 128Pd\\n| 8+\\n|\\n|\\n|-\\n| 129Pd\\n| style=\"text-align:right\" | 46\\n| style=\"text-align:right\" | 83\\n|\\n| 31\\xa0ms\\n| β−\\n| 129Ag\\n|\\n|\\n|\\n\\nPalladium-103\\nPalladium-103 is a radioisotope of the element palladium that has uses in radiation therapy for prostate cancer and uveal melanoma. Palladium-103 may be created from palladium-102 or from rhodium-103 using a cyclotron. Palladium-103 has a half-life of 16.99 days and decays by electron capture to rhodium-103, emitting characteristic x-rays with 21 keV of energy.\\n\\nPalladium-107\\n\\nPalladium-107 is the second-longest lived (half-life of 6.5\\xa0million years) and least radioactive (decay energy only 33\\xa0keV, specific activity 5\\xa0Ci/g) of the 7 long-lived fission products. It undergoes pure beta decay (without gamma radiation) to 107Ag, which is stable.\\n\\nIts yield from thermal neutron fission of uranium-235 is 0.1629% per fission, only 1/4 that of iodine-129, and only 1/40 those of 99Tc, 93Zr, and 135Cs. Yield from 233U is slightly lower, but yield from 239Pu is much higher, 3.3%. Fast fission or fission of some heavier actinides[which?] will produce palladium-107 at higher yields.\\n\\nOne source estimates that palladium produced from fission contains the isotopes 104Pd (16.9%),105Pd (29.3%), 106Pd (21.3%), 107Pd (17%), 108Pd (11.7%) and 110Pd (3.8%). According to another source, the proportion of 107Pd is 9.2% for palladium from thermal neutron fission of 235U, 11.8% for 233U, and 20.4% for 239Pu (and the 239Pu yield of palladium is about 10 times that of 235U).\\n\\nBecause of this dilution and because 105Pd has 11 times the neutron absorption cross section, 107Pd is not amenable to disposal by nuclear transmutation. However, as a noble metal, palladium is not as mobile in the environment as iodine or technetium.\\n\\nReferences\\nPatent application for Palladium-103 implantable radiation-delivery device (accessed 12/7/05)\\n\\n Isotope masses from:\\n\\n Isotopic compositions and standard atomic masses from:\\n\\n Half-life, spin, and isomer data selected from the following sources.\\n\\n \\nPalladium\\nPalladium'"
            ],
            "application/vnd.google.colaboratory.intrinsic+json": {
              "type": "string"
            }
          },
          "metadata": {},
          "execution_count": 27
        }
      ]
    },
    {
      "cell_type": "code",
      "source": [],
      "metadata": {
        "id": "aknUj5gLMAGH"
      },
      "execution_count": null,
      "outputs": []
    },
    {
      "cell_type": "markdown",
      "source": [
        "**Data Processing**"
      ],
      "metadata": {
        "id": "zAhpaLgFL91F"
      }
    },
    {
      "cell_type": "code",
      "source": [
        "from nltk.corpus import stopwords\n",
        "from nltk.tokenize import word_tokenize\n",
        "import spacy\n",
        "import re\n",
        "import string\n",
        "import nltk\n",
        "\n",
        "# prepare spacy model for lemmatization\n",
        "import spacy.cli\n",
        "spacy.cli.download(\"en_core_web_lg\")\n",
        "nlp = spacy.load(\"en_core_web_lg\")\n",
        "\n",
        "\n",
        "nltk.download('punkt')\n",
        "\n"
      ],
      "metadata": {
        "colab": {
          "base_uri": "https://localhost:8080/"
        },
        "id": "ENElceQYI0Du",
        "outputId": "78398f44-4b8b-48ac-bcb0-b11a5b25c780"
      },
      "execution_count": null,
      "outputs": [
        {
          "output_type": "stream",
          "name": "stdout",
          "text": [
            "\u001b[38;5;2m✔ Download and installation successful\u001b[0m\n",
            "You can now load the package via spacy.load('en_core_web_lg')\n"
          ]
        },
        {
          "output_type": "stream",
          "name": "stderr",
          "text": [
            "[nltk_data] Downloading package punkt to /root/nltk_data...\n",
            "[nltk_data]   Unzipping tokenizers/punkt.zip.\n"
          ]
        },
        {
          "output_type": "execute_result",
          "data": {
            "text/plain": [
              "True"
            ]
          },
          "metadata": {},
          "execution_count": 5
        }
      ]
    },
    {
      "cell_type": "code",
      "source": [
        "stop_words = set(['am', 'can', 'down', 'from', 'as', 'be', 'are', 'too', 'through', 'does', 'a', 'but', 'now', 'some', 'an', 'we', 'below', 'against', 'here',\n",
        "     'did', 'yourselves', 'was', 'above', 'him', 'it', 'himself', 'its', 'most', 'the', 're', 'or', 'while', 'your', 'if', 'yours', 'she',\n",
        "     'her', 'other', 'any', 'off', 'few', 'is', 'of', 'there', 'than', 'has', 'so', 'in', 'only', 'have', 'itself', 'for', 'under', 'own', 'were',\n",
        "     'those', 'out', 'very', 'until', 'hers', 'after', 'up', 'they', 'their', 'not', 'doing', 'no', 'them', 'ourselves', 'themselves', 'our', 'on',\n",
        "     'that', 'nor', 'ours', 'at', 'again', 'same', 'over', 'just', 'because', 'before', 'by', 'more', 'being', 'had', 'this', 'with', 'should',\n",
        "     'during', 'herself', 'and', 'these', 'such', 'further', 'do', 'yourself', 'his', 'into', 'once', 'each', 'all', 'then', 'both', 'he', 'me',\n",
        "     'whom', 'i', 'my', 'you', 'to', 'myself', 'about', 'been', 'will', 'between', 've', 'am', 'can', 'shouldn', 'down', 'from', \"wouldn't\", 'as', 'be', 'are', 'too',\n",
        "     'through', \"don't\", 'does', 'a', 'but', 'now', 'some', 'an', \"couldn't\", 'we', 'below', 'against', 'here', 'won', 'did', 'yourselves', 'was', 'above', 'him',\n",
        "     'shan', 'it', \"weren't\", 'himself', 'its', 'most', 'the', 'wouldn', 'needn', 're', 'or', 'while', \"mustn't\", 'your', 'if', \"hasn't\", \"shouldn't\", 'yours',\n",
        "     'she', 'her', 'wasn', 'other', 'aren', 'any', 'll', 'off', 'couldn', 'ain', \"wasn't\", 'few', 'is', 'of', 'there', \"isn't\", 'than', \"shan't\", 'has', 'so',\n",
        "     'in', \"didn't\", 'only', 'have', 'itself', 'for', 'under', 'own', 'hasn', 'were', \"doesn't\", \"needn't\", 'those', 'isn', 'out', 'very', \"won't\", 'until', 'hers',\n",
        "     'after', \"it's\", 'up', 'they', 'their', 'not', 'doing', 'no', 'them', 'ourselves', 'themselves', \"aren't\", 'our', 'on', 'that', 'theirs', 'nor', 't',\n",
        "     'ours', 'at', 's', 'again', 'same', 'over', 'just', 'ma', 'because', 'who', 'mightn', \"you've\", 'before', 'by', 'more', \"should've\", 'being', 'had', 'weren',\n",
        "     'this', \"mightn't\", 'm', 'with', 'should', \"haven't\", \"hadn't\", \"that'll\", \"you're\", 'during', 'haven', 'herself', 'and', 'these', 'such', 'further',\n",
        "     'mustn', 'do', \"you'd\", 'having', 'didn', 'd', 'hadn', 'y', 'yourself', 'his', 'into', 'once', 'each', 'don', 'all', 'then',\n",
        "     'both', 'when', 'he', 'will', 'me', 'whom', 'i', 'my', 'you', 'to', 'between', 'myself', 'doesn', 'about', 'been', 'o', \"you'll\", \"she's\",\n",
        "     've', 'am', 'can', 'shouldn', 'down', 'from', \"wouldn't\", 'as', 'be', 'are', 'too', 'through', \"don't\", 'does', 'a', 'but', 'now', 'some', 'an', \"couldn't\",\n",
        "     'we', 'below', 'against', 'here', 'won', 'did', 'yourselves', 'was', 'above', 'him', 'shan', 'it', \"weren't\", 'himself', 'its', 'most', 'the',\n",
        "     'wouldn', 'needn', 're', 'or', 'while', \"mustn't\", 'your', 'if', \"hasn't\", \"shouldn't\", 'yours', 'she', 'her', 'wasn', 'other', 'aren', 'any', 'll', 'off',\n",
        "     'couldn', 'ain', \"wasn't\", 'few', 'is', 'of', 'there', \"isn't\", 'than', \"shan't\", 'has', 'so', 'in', \"didn't\", 'only', 'have', 'itself', 'for', 'under',\n",
        "     'own', 'hasn', 'were', \"doesn't\", \"needn't\", 'those', 'isn', 'out', 'very', \"won't\", 'until', 'hers', 'after', \"it's\", 'up', 'they', 'their', 'not', 'doing',\n",
        "     'no', 'them', 'ourselves', 'themselves', \"aren't\", 'our', 'on', 'that', 'theirs', 'nor', 't', 'ours', 'at', 's', 'again', 'same', 'over', 'just', 'ma',\n",
        "     'because', 'who', 'mightn', \"you've\", 'before', 'by', 'more', \"should've\", 'being', 'had', 'weren', 'this', \"mightn't\", 'm', 'with', 'should', \"haven't\", \"hadn't\",\n",
        "    \"that'll\", \"you're\", 'during', 'haven', 'herself', 'and', 'these', 'such', 'further', 'mustn', 'do', \"you'd\", 'having', 'didn', 'd', 'hadn', 'y',\n",
        "     'yourself', 'his', 'into', 'once', 'each', 'don', 'all', 'then', 'both', 'when', 'he', 'will',\n",
        "     'me', 'whom', 'i', 'my', 'you', 'to', 'between', 'myself', 'doesn', 'about', 'been', 'o', \"you'll\", \"she's\",\n",
        "     'am', 'can', 'down', 'from', 'as', 'be', 'are', 'too', 'through', 'does', 'a', 'but', 'now', 'some', 'an', 'we', 'below', 'against', 'here', 'did',\n",
        "     'yourselves', 'was', 'above', 'him', 'it', 'himself', 'its', 'most', 'the', 're', 'or', 'while', 'your', 'if', 'yours', 'she', 'her', 'other', 'any',\n",
        "     'off', 'few', 'is', 'of', 'there', 'than', 'has', 'so', 'in', 'only', 'have', 'itself', 'for', 'under', 'own', 'were', 'those', 'out', 'very', 'until',\n",
        "     'hers', 'after', 'up', 'they', 'their', 'not', 'doing', 'no', 'them', 'ourselves', 'themselves', 'our', 'on', 'that', 'nor', 'ours', 'at', 'again',\n",
        "     'same', 'over', 'just', 'because', 'who', 'before', 'by', 'more', 'being', 'had', 'this', 'with', 'should', 'during', 'herself', 'and', 'these', 'such',\n",
        "     'further', 'do', 'yourself', 'his', 'into', 'once', 'each',\n",
        "     'all', 'then', 'both', 'when', 'he', 'me', 'whom', 'i', 'my', 'you', 'to', 'myself', 'about', 'been', 'will', 'between'])"
      ],
      "metadata": {
        "id": "ldSQyk9uMRbI"
      },
      "execution_count": null,
      "outputs": []
    },
    {
      "cell_type": "code",
      "source": [
        "# defining a fuction to remove punctuations\n",
        "def remove_punc(doc_text):\n",
        "    result = re.sub(r'[0-9]+', '', doc_text)\n",
        "    text = re.compile('[%s]' % re.escape(string.punctuation)).sub('', result)\n",
        "    return text\n",
        "\n",
        "# defining a function to remove stop words\n",
        "def remove_stop(the_text):\n",
        "  # Tokenize the text into words\n",
        "  words = word_tokenize(the_text)\n",
        "\n",
        "  # Filter out the stop words from the text\n",
        "  filtered_words = [word for word in words if not word in stop_words]\n",
        "\n",
        "  # Join the filtered words into a string\n",
        "  filtered_text = ' '.join(filtered_words)\n",
        "\n",
        "  # return the filtered text\n",
        "  return(filtered_text)\n",
        "\n",
        "\n",
        "# defining lemmatization function\n",
        "def lemm(text):\n",
        "    lemme=[]\n",
        "    for token in nlp(text):\n",
        "        lemme.append(token.lemma_)\n",
        "\n",
        "    return \" \".join(lemme)\n",
        "\n",
        "\n",
        "# defining a fuction that combines all preprocessing steps needed\n",
        "def preprocessing_text(text):\n",
        "    text = remove_punc(text)\n",
        "    text = remove_stop(text)\n",
        "    text = lemm(text)\n",
        "    return text\n"
      ],
      "metadata": {
        "id": "avetYU-vMkJN"
      },
      "execution_count": null,
      "outputs": []
    },
    {
      "cell_type": "code",
      "source": [
        "df1['processed'] = df1.text.apply(preprocessing_text)"
      ],
      "metadata": {
        "id": "PexHZj-YMoOw"
      },
      "execution_count": null,
      "outputs": []
    },
    {
      "cell_type": "code",
      "source": [],
      "metadata": {
        "id": "I3jDJItFUpKw"
      },
      "execution_count": null,
      "outputs": []
    },
    {
      "cell_type": "code",
      "source": [
        "df1.columns"
      ],
      "metadata": {
        "colab": {
          "base_uri": "https://localhost:8080/"
        },
        "id": "y1jyGR3DUpN2",
        "outputId": "28bc138e-410b-4202-be43-267a5dd31a26"
      },
      "execution_count": null,
      "outputs": [
        {
          "output_type": "execute_result",
          "data": {
            "text/plain": [
              "Index(['text', 'url', 'title', 'processed'], dtype='object')"
            ]
          },
          "metadata": {},
          "execution_count": 43
        }
      ]
    },
    {
      "cell_type": "code",
      "source": [
        "df1[ df1['mylen2'] > 3000 ]"
      ],
      "metadata": {
        "colab": {
          "base_uri": "https://localhost:8080/",
          "height": 684
        },
        "id": "DPOtEHCwNPby",
        "outputId": "ced2a517-9394-480a-cd69-e2ca861e4c03"
      },
      "execution_count": null,
      "outputs": [
        {
          "output_type": "execute_result",
          "data": {
            "text/plain": [
              "                                                    text  \\\n",
              "126    Clonal hypereosinophilia, also termed primary ...   \n",
              "272    This  timeline of events related to per- and p...   \n",
              "421    Carbon (from  \"coal\") is a chemical element wi...   \n",
              "427    In mathematics, an ellipse is a plane curve su...   \n",
              "442    Penicillins (P, PCN or PEN) are a group of ant...   \n",
              "...                                                  ...   \n",
              "24117  Non-alcoholic fatty liver disease (NAFLD), als...   \n",
              "24262  The reward system (the mesocorticolimbic circu...   \n",
              "24380  Security Assertion Markup Language 2.0 (SAML 2...   \n",
              "24497  B\\nbackdoor breaking ball\\nA breaking pitch, u...   \n",
              "24863  In time series analysis, singular spectrum ana...   \n",
              "\n",
              "                                                     url  \\\n",
              "126    https://en.wikipedia.org/wiki/Clonal%20hypereo...   \n",
              "272    https://en.wikipedia.org/wiki/Timeline%20of%20...   \n",
              "421                 https://en.wikipedia.org/wiki/Carbon   \n",
              "427                https://en.wikipedia.org/wiki/Ellipse   \n",
              "442             https://en.wikipedia.org/wiki/Penicillin   \n",
              "...                                                  ...   \n",
              "24117  https://en.wikipedia.org/wiki/Non-alcoholic%20...   \n",
              "24262      https://en.wikipedia.org/wiki/Reward%20system   \n",
              "24380           https://en.wikipedia.org/wiki/SAML%202.0   \n",
              "24497  https://en.wikipedia.org/wiki/Glossary%20of%20...   \n",
              "24863  https://en.wikipedia.org/wiki/Singular%20spect...   \n",
              "\n",
              "                                                   title  \\\n",
              "126                             Clonal hypereosinophilia   \n",
              "272    Timeline of events related to per- and polyflu...   \n",
              "421                                               Carbon   \n",
              "427                                              Ellipse   \n",
              "442                                           Penicillin   \n",
              "...                                                  ...   \n",
              "24117                  Non-alcoholic fatty liver disease   \n",
              "24262                                      Reward system   \n",
              "24380                                           SAML 2.0   \n",
              "24497                           Glossary of baseball (B)   \n",
              "24863                         Singular spectrum analysis   \n",
              "\n",
              "                                               processed  mylen2  \n",
              "126    Clonal hypereosinophilia also term primary hyp...    3001  \n",
              "272    this timeline event relate per polyfluoroalkyl...    4362  \n",
              "421    carbon coal chemical element symbol C atomic n...    4170  \n",
              "427    in mathematic ellipse plane curve surround two...    3910  \n",
              "442    Penicillins P PCN PEN group antibiotic origina...    3860  \n",
              "...                                                  ...     ...  \n",
              "24117  Nonalcoholic fatty liver disease NAFLD also kn...    4830  \n",
              "24262  the reward system mesocorticolimbic circuit gr...    3211  \n",
              "24380  Security Assertion Markup Language SAML versio...    4363  \n",
              "24497  b backdoor break ball a break pitch usually sl...    3319  \n",
              "24863  in time series analysis singular spectrum anal...    3397  \n",
              "\n",
              "[245 rows x 5 columns]"
            ],
            "text/html": [
              "\n",
              "  <div id=\"df-5fdb30de-c771-4cad-a4d2-8b17f6337b63\" class=\"colab-df-container\">\n",
              "    <div>\n",
              "<style scoped>\n",
              "    .dataframe tbody tr th:only-of-type {\n",
              "        vertical-align: middle;\n",
              "    }\n",
              "\n",
              "    .dataframe tbody tr th {\n",
              "        vertical-align: top;\n",
              "    }\n",
              "\n",
              "    .dataframe thead th {\n",
              "        text-align: right;\n",
              "    }\n",
              "</style>\n",
              "<table border=\"1\" class=\"dataframe\">\n",
              "  <thead>\n",
              "    <tr style=\"text-align: right;\">\n",
              "      <th></th>\n",
              "      <th>text</th>\n",
              "      <th>url</th>\n",
              "      <th>title</th>\n",
              "      <th>processed</th>\n",
              "      <th>mylen2</th>\n",
              "    </tr>\n",
              "  </thead>\n",
              "  <tbody>\n",
              "    <tr>\n",
              "      <th>126</th>\n",
              "      <td>Clonal hypereosinophilia, also termed primary ...</td>\n",
              "      <td>https://en.wikipedia.org/wiki/Clonal%20hypereo...</td>\n",
              "      <td>Clonal hypereosinophilia</td>\n",
              "      <td>Clonal hypereosinophilia also term primary hyp...</td>\n",
              "      <td>3001</td>\n",
              "    </tr>\n",
              "    <tr>\n",
              "      <th>272</th>\n",
              "      <td>This  timeline of events related to per- and p...</td>\n",
              "      <td>https://en.wikipedia.org/wiki/Timeline%20of%20...</td>\n",
              "      <td>Timeline of events related to per- and polyflu...</td>\n",
              "      <td>this timeline event relate per polyfluoroalkyl...</td>\n",
              "      <td>4362</td>\n",
              "    </tr>\n",
              "    <tr>\n",
              "      <th>421</th>\n",
              "      <td>Carbon (from  \"coal\") is a chemical element wi...</td>\n",
              "      <td>https://en.wikipedia.org/wiki/Carbon</td>\n",
              "      <td>Carbon</td>\n",
              "      <td>carbon coal chemical element symbol C atomic n...</td>\n",
              "      <td>4170</td>\n",
              "    </tr>\n",
              "    <tr>\n",
              "      <th>427</th>\n",
              "      <td>In mathematics, an ellipse is a plane curve su...</td>\n",
              "      <td>https://en.wikipedia.org/wiki/Ellipse</td>\n",
              "      <td>Ellipse</td>\n",
              "      <td>in mathematic ellipse plane curve surround two...</td>\n",
              "      <td>3910</td>\n",
              "    </tr>\n",
              "    <tr>\n",
              "      <th>442</th>\n",
              "      <td>Penicillins (P, PCN or PEN) are a group of ant...</td>\n",
              "      <td>https://en.wikipedia.org/wiki/Penicillin</td>\n",
              "      <td>Penicillin</td>\n",
              "      <td>Penicillins P PCN PEN group antibiotic origina...</td>\n",
              "      <td>3860</td>\n",
              "    </tr>\n",
              "    <tr>\n",
              "      <th>...</th>\n",
              "      <td>...</td>\n",
              "      <td>...</td>\n",
              "      <td>...</td>\n",
              "      <td>...</td>\n",
              "      <td>...</td>\n",
              "    </tr>\n",
              "    <tr>\n",
              "      <th>24117</th>\n",
              "      <td>Non-alcoholic fatty liver disease (NAFLD), als...</td>\n",
              "      <td>https://en.wikipedia.org/wiki/Non-alcoholic%20...</td>\n",
              "      <td>Non-alcoholic fatty liver disease</td>\n",
              "      <td>Nonalcoholic fatty liver disease NAFLD also kn...</td>\n",
              "      <td>4830</td>\n",
              "    </tr>\n",
              "    <tr>\n",
              "      <th>24262</th>\n",
              "      <td>The reward system (the mesocorticolimbic circu...</td>\n",
              "      <td>https://en.wikipedia.org/wiki/Reward%20system</td>\n",
              "      <td>Reward system</td>\n",
              "      <td>the reward system mesocorticolimbic circuit gr...</td>\n",
              "      <td>3211</td>\n",
              "    </tr>\n",
              "    <tr>\n",
              "      <th>24380</th>\n",
              "      <td>Security Assertion Markup Language 2.0 (SAML 2...</td>\n",
              "      <td>https://en.wikipedia.org/wiki/SAML%202.0</td>\n",
              "      <td>SAML 2.0</td>\n",
              "      <td>Security Assertion Markup Language SAML versio...</td>\n",
              "      <td>4363</td>\n",
              "    </tr>\n",
              "    <tr>\n",
              "      <th>24497</th>\n",
              "      <td>B\\nbackdoor breaking ball\\nA breaking pitch, u...</td>\n",
              "      <td>https://en.wikipedia.org/wiki/Glossary%20of%20...</td>\n",
              "      <td>Glossary of baseball (B)</td>\n",
              "      <td>b backdoor break ball a break pitch usually sl...</td>\n",
              "      <td>3319</td>\n",
              "    </tr>\n",
              "    <tr>\n",
              "      <th>24863</th>\n",
              "      <td>In time series analysis, singular spectrum ana...</td>\n",
              "      <td>https://en.wikipedia.org/wiki/Singular%20spect...</td>\n",
              "      <td>Singular spectrum analysis</td>\n",
              "      <td>in time series analysis singular spectrum anal...</td>\n",
              "      <td>3397</td>\n",
              "    </tr>\n",
              "  </tbody>\n",
              "</table>\n",
              "<p>245 rows × 5 columns</p>\n",
              "</div>\n",
              "    <div class=\"colab-df-buttons\">\n",
              "\n",
              "  <div class=\"colab-df-container\">\n",
              "    <button class=\"colab-df-convert\" onclick=\"convertToInteractive('df-5fdb30de-c771-4cad-a4d2-8b17f6337b63')\"\n",
              "            title=\"Convert this dataframe to an interactive table.\"\n",
              "            style=\"display:none;\">\n",
              "\n",
              "  <svg xmlns=\"http://www.w3.org/2000/svg\" height=\"24px\" viewBox=\"0 -960 960 960\">\n",
              "    <path d=\"M120-120v-720h720v720H120Zm60-500h600v-160H180v160Zm220 220h160v-160H400v160Zm0 220h160v-160H400v160ZM180-400h160v-160H180v160Zm440 0h160v-160H620v160ZM180-180h160v-160H180v160Zm440 0h160v-160H620v160Z\"/>\n",
              "  </svg>\n",
              "    </button>\n",
              "\n",
              "  <style>\n",
              "    .colab-df-container {\n",
              "      display:flex;\n",
              "      gap: 12px;\n",
              "    }\n",
              "\n",
              "    .colab-df-convert {\n",
              "      background-color: #E8F0FE;\n",
              "      border: none;\n",
              "      border-radius: 50%;\n",
              "      cursor: pointer;\n",
              "      display: none;\n",
              "      fill: #1967D2;\n",
              "      height: 32px;\n",
              "      padding: 0 0 0 0;\n",
              "      width: 32px;\n",
              "    }\n",
              "\n",
              "    .colab-df-convert:hover {\n",
              "      background-color: #E2EBFA;\n",
              "      box-shadow: 0px 1px 2px rgba(60, 64, 67, 0.3), 0px 1px 3px 1px rgba(60, 64, 67, 0.15);\n",
              "      fill: #174EA6;\n",
              "    }\n",
              "\n",
              "    .colab-df-buttons div {\n",
              "      margin-bottom: 4px;\n",
              "    }\n",
              "\n",
              "    [theme=dark] .colab-df-convert {\n",
              "      background-color: #3B4455;\n",
              "      fill: #D2E3FC;\n",
              "    }\n",
              "\n",
              "    [theme=dark] .colab-df-convert:hover {\n",
              "      background-color: #434B5C;\n",
              "      box-shadow: 0px 1px 3px 1px rgba(0, 0, 0, 0.15);\n",
              "      filter: drop-shadow(0px 1px 2px rgba(0, 0, 0, 0.3));\n",
              "      fill: #FFFFFF;\n",
              "    }\n",
              "  </style>\n",
              "\n",
              "    <script>\n",
              "      const buttonEl =\n",
              "        document.querySelector('#df-5fdb30de-c771-4cad-a4d2-8b17f6337b63 button.colab-df-convert');\n",
              "      buttonEl.style.display =\n",
              "        google.colab.kernel.accessAllowed ? 'block' : 'none';\n",
              "\n",
              "      async function convertToInteractive(key) {\n",
              "        const element = document.querySelector('#df-5fdb30de-c771-4cad-a4d2-8b17f6337b63');\n",
              "        const dataTable =\n",
              "          await google.colab.kernel.invokeFunction('convertToInteractive',\n",
              "                                                    [key], {});\n",
              "        if (!dataTable) return;\n",
              "\n",
              "        const docLinkHtml = 'Like what you see? Visit the ' +\n",
              "          '<a target=\"_blank\" href=https://colab.research.google.com/notebooks/data_table.ipynb>data table notebook</a>'\n",
              "          + ' to learn more about interactive tables.';\n",
              "        element.innerHTML = '';\n",
              "        dataTable['output_type'] = 'display_data';\n",
              "        await google.colab.output.renderOutput(dataTable, element);\n",
              "        const docLink = document.createElement('div');\n",
              "        docLink.innerHTML = docLinkHtml;\n",
              "        element.appendChild(docLink);\n",
              "      }\n",
              "    </script>\n",
              "  </div>\n",
              "\n",
              "\n",
              "<div id=\"df-4563dd52-6bce-4779-8be8-2faf817a66a4\">\n",
              "  <button class=\"colab-df-quickchart\" onclick=\"quickchart('df-4563dd52-6bce-4779-8be8-2faf817a66a4')\"\n",
              "            title=\"Suggest charts.\"\n",
              "            style=\"display:none;\">\n",
              "\n",
              "<svg xmlns=\"http://www.w3.org/2000/svg\" height=\"24px\"viewBox=\"0 0 24 24\"\n",
              "     width=\"24px\">\n",
              "    <g>\n",
              "        <path d=\"M19 3H5c-1.1 0-2 .9-2 2v14c0 1.1.9 2 2 2h14c1.1 0 2-.9 2-2V5c0-1.1-.9-2-2-2zM9 17H7v-7h2v7zm4 0h-2V7h2v10zm4 0h-2v-4h2v4z\"/>\n",
              "    </g>\n",
              "</svg>\n",
              "  </button>\n",
              "\n",
              "<style>\n",
              "  .colab-df-quickchart {\n",
              "    background-color: #E8F0FE;\n",
              "    border: none;\n",
              "    border-radius: 50%;\n",
              "    cursor: pointer;\n",
              "    display: none;\n",
              "    fill: #1967D2;\n",
              "    height: 32px;\n",
              "    padding: 0 0 0 0;\n",
              "    width: 32px;\n",
              "  }\n",
              "\n",
              "  .colab-df-quickchart:hover {\n",
              "    background-color: #E2EBFA;\n",
              "    box-shadow: 0px 1px 2px rgba(60, 64, 67, 0.3), 0px 1px 3px 1px rgba(60, 64, 67, 0.15);\n",
              "    fill: #174EA6;\n",
              "  }\n",
              "\n",
              "  [theme=dark] .colab-df-quickchart {\n",
              "    background-color: #3B4455;\n",
              "    fill: #D2E3FC;\n",
              "  }\n",
              "\n",
              "  [theme=dark] .colab-df-quickchart:hover {\n",
              "    background-color: #434B5C;\n",
              "    box-shadow: 0px 1px 3px 1px rgba(0, 0, 0, 0.15);\n",
              "    filter: drop-shadow(0px 1px 2px rgba(0, 0, 0, 0.3));\n",
              "    fill: #FFFFFF;\n",
              "  }\n",
              "</style>\n",
              "\n",
              "  <script>\n",
              "    async function quickchart(key) {\n",
              "      const charts = await google.colab.kernel.invokeFunction(\n",
              "          'suggestCharts', [key], {});\n",
              "    }\n",
              "    (() => {\n",
              "      let quickchartButtonEl =\n",
              "        document.querySelector('#df-4563dd52-6bce-4779-8be8-2faf817a66a4 button');\n",
              "      quickchartButtonEl.style.display =\n",
              "        google.colab.kernel.accessAllowed ? 'block' : 'none';\n",
              "    })();\n",
              "  </script>\n",
              "</div>\n",
              "    </div>\n",
              "  </div>\n"
            ]
          },
          "metadata": {},
          "execution_count": 50
        }
      ]
    },
    {
      "cell_type": "code",
      "source": [
        "df2['processed'] = df2.text.apply(preprocessing_text)"
      ],
      "metadata": {
        "id": "nyeA9hrzS5bH"
      },
      "execution_count": null,
      "outputs": []
    },
    {
      "cell_type": "code",
      "source": [
        "df2.text[11459]"
      ],
      "metadata": {
        "colab": {
          "base_uri": "https://localhost:8080/",
          "height": 157
        },
        "id": "WKVqgD7Jf_Fm",
        "outputId": "53a0ac02-1aae-47a0-8a68-e7dd91a905d4"
      },
      "execution_count": null,
      "outputs": [
        {
          "output_type": "execute_result",
          "data": {
            "text/plain": [
              "'VectorBase is one of the five Bioinformatics Resource Centers (BRC) funded by the National Institute of Allergy and Infectious Diseases (NIAID), a component of the National Institutes of Health (NIH), which is an agency of the United States Department of Health and Human Services. VectorBase is  focused on invertebrate vectors of human pathogens working with the sequencing centers and the research community to curate vector genomes (mainly genome annotation).\\n\\nGenomes covered in the VectorBase database\\nAedes aegypti\\nAnopheles gambiae\\nCulex quinquefasciatus\\nIxodes scapularis\\nPediculus humanus\\nRhodnius prolixus\\n\\nTools available through the VectorBase site\\nGenome browser\\nCommunity annotation system\\nMicroarray and gene expression repository\\nControlled vocabularies for anatomy, insecticide resistance and vector-borne diseases (malaria and dengue fever)\\nBLAST searches for all covered genomes\\n\\nSee also\\n\\n Vectors in epidemiology\\n\\nReferences\\n\\nExternal links\\n vectorbase.org\\n Bioinformatics Resource Centers The NIAID page describing the goals and activities of the BRCs\\n Pathogen Portal Hub site for the five BRCs; provides summary information\\nVectorBase genome browsers\\n Aedes aegypti genome browser at VectorBase\\n Anopheles gambiae genome browser at VectorBase\\n Culex quinquefasciatus genome browser at VectorBase\\n Ixodes scapularis genome browser at VectorBase\\n Pediculus humanus genome browser at VectorBase\\n Rhodnius prolixus genome browser at VectorBase\\n\\nBiological databases\\nOnline databases\\nBiology websites\\nEpidemiology organizations'"
            ],
            "application/vnd.google.colaboratory.intrinsic+json": {
              "type": "string"
            }
          },
          "metadata": {},
          "execution_count": 57
        }
      ]
    },
    {
      "cell_type": "code",
      "source": [
        "df2['processed'][11459]"
      ],
      "metadata": {
        "colab": {
          "base_uri": "https://localhost:8080/",
          "height": 209
        },
        "id": "5YU_dmgBV_0t",
        "outputId": "bd9c5f9f-27e4-4dde-b22d-c485c828a9c9"
      },
      "execution_count": null,
      "outputs": [
        {
          "output_type": "execute_result",
          "data": {
            "text/plain": [
              "'VectorBase one five Bioinformatics Resource Centers BRC fund National Institute Allergy Infectious Diseases NIAID component National Institutes Health NIH which agency United States Department Health Human Services VectorBase focus invertebrate vector human pathogen work sequence center research community curate vector genome mainly genome annotation Genomes cover VectorBase database Aedes aegypti Anopheles gambiae Culex quinquefasciatus Ixodes scapularis Pediculus humanus Rhodnius prolixus Tools available VectorBase site Genome browser Community annotation system microarray gene expression repository control vocabulary anatomy insecticide resistance vectorborne disease malaria dengue fever blast search cover genome see also vector epidemiology References external link vectorbaseorg Bioinformatics Resource Centers the NIAID page describe goal activity BRCs Pathogen Portal Hub site five BRCs provide summary information vectorbase genome browser Aedes aegypti genome browser VectorBase Anopheles gambiae genome browser VectorBase Culex quinquefasciatus genome browser VectorBase Ixodes scapularis genome browser VectorBase Pediculus humanus genome browser VectorBase Rhodnius prolixus genome browser VectorBase Biological database Online database Biology website Epidemiology organization'"
            ],
            "application/vnd.google.colaboratory.intrinsic+json": {
              "type": "string"
            }
          },
          "metadata": {},
          "execution_count": 58
        }
      ]
    },
    {
      "cell_type": "code",
      "source": [
        "df1.to_csv(\"df1.csv\")"
      ],
      "metadata": {
        "id": "URdjlFJDcjpH"
      },
      "execution_count": null,
      "outputs": []
    },
    {
      "cell_type": "code",
      "source": [
        "df2.to_csv(\"df2.csv\")"
      ],
      "metadata": {
        "id": "KSJluYz4hKCv"
      },
      "execution_count": null,
      "outputs": []
    },
    {
      "cell_type": "code",
      "source": [],
      "metadata": {
        "id": "-OQ9R06OkrIP"
      },
      "execution_count": null,
      "outputs": []
    }
  ]
}